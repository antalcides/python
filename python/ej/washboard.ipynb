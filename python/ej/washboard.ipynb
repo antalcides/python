{
 "metadata": {},
 "nbformat": 3,
 "nbformat_minor": 0,
 "worksheets": [
  {
   "cells": [
    {
     "cell_type": "heading",
     "level": 1,
     "metadata": {},
     "source": [
      "graphs/washboard"
     ]
    },
    {
     "cell_type": "code",
     "collapsed": false,
     "input": [
      "# contributed by Sigmund Kohler\n",
      "\n",
      "from math import pi, cos\n",
      "from pyx import *\n",
      "from pyx.deco import barrow, earrow\n",
      "from pyx.style import linewidth, linestyle\n",
      "from pyx.graph import graphxy\n",
      "from pyx.graph.axis import linear\n",
      "from pyx.graph.axis.painter import regular\n",
      "from pyx.graph.style import line\n",
      "from pyx.graph.data import function\n",
      "\n",
      "mypainter = regular(basepathattrs=[earrow.normal], titlepos=1)\n",
      "def mycos(x): return -cos(x)+.10*x\n",
      "\n",
      "g = graphxy(height=5, x2=None, y2=None,\n",
      "            x=linear(min=-2.5*pi, max=3.3*pi, parter=None,\n",
      "                      painter=mypainter, title=r\"$\\delta\\phi$\"),\n",
      "            y=linear(min=-2.3, max=2, painter=None))\n",
      "g.plot(function(\"y(x)=mycos(x)\", context=locals()),\n",
      "       [line(lineattrs=[linewidth.Thick])])\n",
      "g.finish()\n",
      "\n",
      "x1, y1 = g.pos(-pi+.1, mycos(-pi+.1))\n",
      "x2, y2 = g.pos(-.1, mycos(-.1))\n",
      "x3, y3 = g.pos(pi+.1, mycos(pi+.1))\n",
      "\n",
      "g.stroke(path.line(x1-.5, y1, x1+.5, y1), [linestyle.dashed])\n",
      "g.stroke(path.line(x1-.5, y3, x3+.5, y3), [linestyle.dashed])\n",
      "g.stroke(path.line(x2-.5, y2, x3+.5, y2), [linestyle.dashed])\n",
      "g.stroke(path.line(x1, y1, x1, y3), [barrow.normal, earrow.normal])\n",
      "g.stroke(path.line(x3, y2, x3, y3), [barrow.normal, earrow.normal])\n",
      "g.text(x1+.2, 0.5*(y1+y3), r\"$2\\pi\\gamma k\\Omega$\", [text.vshift.middlezero])\n",
      "g.text(x1-.6, y1-.1, r\"$E_{\\rm b}$\", [text.halign.right])\n",
      "g.text(x3+.15, y2+.20, r\"$2J_k(\\varepsilon/\\Omega)+\\pi\\gamma k\\Omega$\")\n",
      "\n",
      "g"
     ],
     "language": "python",
     "metadata": {},
     "outputs": [
      {
       "metadata": {},
       "output_type": "pyout",
       "png": "[encoded data removed]"
      }
     ]
    }
   ],
   "metadata": {}
  }
 ]
}