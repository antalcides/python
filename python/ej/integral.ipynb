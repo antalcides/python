{
 "metadata": {},
 "nbformat": 3,
 "nbformat_minor": 0,
 "worksheets": [
  {
   "cells": [
    {
     "cell_type": "heading",
     "level": 1,
     "metadata": {},
     "source": [
      "graphs/integral"
     ]
    },
    {
     "cell_type": "code",
     "collapsed": false,
     "input": [
      "from pyx import *\n",
      "\n",
      "a, b = 2, 9 # integral area\n",
      "\n",
      "p = graph.axis.painter.regular(basepathattrs=[deco.earrow.normal],\n",
      "                               titlepos=0.98, titledirection=None)\n",
      "ticks = [graph.axis.tick.tick(a, label=\"$a$\"),\n",
      "         graph.axis.tick.tick(b, label=\"$b$\")]\n",
      "g = graph.graphxy(width=8, x2=None, y2=None,\n",
      "                  x=graph.axis.linear(title=\"$x$\", min=0, max=10,\n",
      "                                      manualticks=ticks,\n",
      "                                      parter=None, painter=p),\n",
      "                  y=graph.axis.linear(title=\"$y$\", parter=None, painter=p))\n",
      "d = g.plot(graph.data.function(\"y(x)=(x-3)*(x-5)*(x-7)\"))\n",
      "g.finish()\n",
      "p = d.path # the path is available after the graph is finished\n",
      "\n",
      "pa = g.xgridpath(a)\n",
      "pb = g.xgridpath(b)\n",
      "(splita,), (splitpa,) = p.intersect(pa)\n",
      "(splitb,), (splitpb,) = p.intersect(pb)\n",
      "area = (pa.split([splitpa])[0] <<\n",
      "        p.split([splita, splitb])[1] <<\n",
      "        pb.split([splitpb])[0].reversed())\n",
      "area[-1].close()\n",
      "g.stroke(area, [deco.filled([color.gray(0.8)])])\n",
      "g.text(g.pos(0.5 * (a + b), 0)[0], 1,\n",
      "       r\"\\int_a^b f(x){\\rm d}x\", [text.halign.center, text.mathmode])\n",
      "g"
     ],
     "language": "python",
     "metadata": {},
     "outputs": [
      {
       "metadata": {},
       "output_type": "pyout",
       "png": "[encoded data removed]"
      }
     ]
    }
   ],
   "metadata": {}
  }
 ]
}