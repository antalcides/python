{
 "metadata": {},
 "nbformat": 3,
 "nbformat_minor": 0,
 "worksheets": [
  {
   "cells": [
    {
     "cell_type": "heading",
     "level": 1,
     "metadata": {},
     "source": [
      "path/circles"
     ]
    },
    {
     "cell_type": "code",
     "collapsed": false,
     "input": [
      "from pyx import *\n",
      "\n",
      "circ1 = path.circle(0, 0, 1.5)\n",
      "circ2 = path.circle(1, 1, 1)\n",
      "(circ1a, circ1b), (circ2a, circ2b) = circ1.intersect(circ2)\n",
      "intersection = (circ2.split([circ2b, circ2a])[1]\n",
      "                << circ1.split([circ1a, circ1b])[1])\n",
      "intersection[-1].close()\n",
      "\n",
      "union = (circ1.split([circ1a, circ1b])[0]\n",
      "         << circ2.split([circ2b, circ2a])[0])\n",
      "union[-1].close()\n",
      "\n",
      "c = canvas.canvas()\n",
      "c.fill(union, [color.rgb.blue])\n",
      "c.fill(intersection, [color.rgb.red])\n",
      "c.stroke(circ1)\n",
      "c.stroke(circ2)\n",
      "c"
     ],
     "language": "python",
     "metadata": {},
     "outputs": [
      {
       "metadata": {},
       "output_type": "pyout",
       "png": "[encoded data removed]"
      }
     ]
    }
   ],
   "metadata": {}
  }
 ]
}