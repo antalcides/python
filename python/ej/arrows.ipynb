{
 "metadata": {},
 "nbformat": 3,
 "nbformat_minor": 0,
 "worksheets": [
  {
   "cells": [
    {
     "cell_type": "heading",
     "level": 1,
     "metadata": {},
     "source": [
      "graphs/arrows"
     ]
    },
    {
     "cell_type": "code",
     "collapsed": false,
     "input": [
      "from math import pi, atan2\n",
      "from pyx import *\n",
      "\n",
      "z1 = 2.5 + 4.5j\n",
      "z2 = 7.5 + 5.5j\n",
      "\n",
      "# we abuse a parametric function below, so we express everything in terms of a parameter k\n",
      "x = lambda k: int(k)/11\n",
      "y = lambda k: int(k)%11\n",
      "z = lambda k: x(k) + y(k) * 1j\n",
      "f = lambda k: 1/(z(k)-z1)/(z(k)-z2)                # function to be plotted\n",
      "s = lambda k: 5*abs(f(k))                          # magnitude of function value\n",
      "a = lambda k: 180/pi*atan2(f(k).imag, f(k).real)   # direction of function value\n",
      "\n",
      "g = graph.graphxy(width=8,\n",
      "                  x=graph.axis.linear(min=0, max=10),\n",
      "                  y=graph.axis.linear(min=0, max=10))\n",
      "g.plot(graph.data.paramfunction(\"k\", 0, 120,\n",
      "                                \"x, y, size, angle = x(k), y(k), s(k), a(k)\",\n",
      "                                points=121, context=locals()),# access extern\n",
      "       [graph.style.arrow()])                                 # variables&functions\n",
      "g.writeEPSfile(\"arrows\")                                      # by passing a context\n",
      "g.writePDFfile(\"arrows\")                                      # by passing a context"
     ],
     "language": "python",
     "metadata": {},
     "outputs": [
      {
       "metadata": {},
       "output_type": "pyout",
       "png": "[encoded data removed]"
      }
     ]
    }
   ],
   "metadata": {}
  }
 ]
}